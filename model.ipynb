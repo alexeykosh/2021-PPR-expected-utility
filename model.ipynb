{
 "cells": [
  {
   "cell_type": "code",
   "execution_count": 1,
   "metadata": {},
   "outputs": [],
   "source": [
    "import numpy as np\n",
    "import matplotlib.pyplot as plt\n",
    "from sklearn import preprocessing\n",
    "import scipy.stats \n",
    "import itertools"
   ]
  },
  {
   "cell_type": "markdown",
   "metadata": {},
   "source": [
    "### 1. Implementation:"
   ]
  },
  {
   "cell_type": "markdown",
   "metadata": {},
   "source": [
    "Truth values of all of the messages in the three words:"
   ]
  },
  {
   "cell_type": "code",
   "execution_count": 2,
   "metadata": {},
   "outputs": [],
   "source": [
    "all_ = {'w_all': 1, 'w_some': 0, 'w_no': 0}\n",
    "some_ = {'w_all': 1, 'w_some': 1, 'w_no': 0}\n",
    "no_ = {'w_all': 0, 'w_some': 0, 'w_no': 1}\n",
    "notall_ = {'w_all': 0, 'w_some': 1, 'w_no': 1}"
   ]
  },
  {
   "cell_type": "code",
   "execution_count": 3,
   "metadata": {},
   "outputs": [],
   "source": [
    "messages = {'all': all_, 'some': some_, 'no': no_, 'notall': notall_}"
   ]
  },
  {
   "cell_type": "markdown",
   "metadata": {},
   "source": [
    "Probability of each message:"
   ]
  },
  {
   "cell_type": "code",
   "execution_count": 4,
   "metadata": {},
   "outputs": [],
   "source": [
    "prob_message = {'all': 1/3, 'some': 2/3, 'no': 1/3, 'notall': 2/3}"
   ]
  },
  {
   "cell_type": "code",
   "execution_count": 5,
   "metadata": {},
   "outputs": [],
   "source": [
    "def P(p_0, world, n):\n",
    "    if world == 'w_all':\n",
    "        return (p_0 ** n)\n",
    "    elif world == 'w_no':\n",
    "        return ((1 - p_0)**n)\n",
    "    else:\n",
    "        return (1 - (p_0 ** n + (1 - p_0)**n))"
   ]
  },
  {
   "cell_type": "code",
   "execution_count": 6,
   "metadata": {},
   "outputs": [],
   "source": [
    "def P_0(p_0, world, message, n):\n",
    "    if messages.get(message).get(world) == 1:\n",
    "        return P(p_0, world, n)/prob_message.get(message)\n",
    "    else:\n",
    "        # othervise return 0\n",
    "        return 0"
   ]
  },
  {
   "cell_type": "markdown",
   "metadata": {},
   "source": [
    "Utility for each message is computed as follows:\n",
    "\n",
    "$$log(P_0(w|message)) - cost(m)$$"
   ]
  },
  {
   "cell_type": "code",
   "execution_count": 7,
   "metadata": {},
   "outputs": [],
   "source": [
    "def utility(message_c, message, world, p_0, n):\n",
    "    return np.log(P_0(p_0, world, message, n)) - message_c.get(message)"
   ]
  },
  {
   "cell_type": "markdown",
   "metadata": {},
   "source": [
    "Return the best message given the world:"
   ]
  },
  {
   "cell_type": "code",
   "execution_count": 8,
   "metadata": {},
   "outputs": [],
   "source": [
    "def m(p_0, w, n, message_c):\n",
    "    dic_res = {}\n",
    "    for element in message_c.keys():\n",
    "        dic_res[element] = utility(message_c=message_c, message=element, world=w, p_0=p_0, n=n)\n",
    "    winner = max(dic_res, key=dic_res.get)\n",
    "    return dic_res.get(winner)"
   ]
  },
  {
   "cell_type": "markdown",
   "metadata": {},
   "source": [
    "The function below computes the following equation given the parameters for the Beta distribution representing the priors:\n",
    "\n",
    "$$\\sum_{P_0} P(P_0) \\times (\\sum_{w} P(w) \\times U(m(P_0,M,w), w, P_0))$$"
   ]
  },
  {
   "cell_type": "code",
   "execution_count": 9,
   "metadata": {},
   "outputs": [],
   "source": [
    "@np.vectorize\n",
    "def expected_U(a, b, message_c, n=50):\n",
    "    res = []\n",
    "    for i in np.arange(0.01, 1, 0.01):\n",
    "        utility = []\n",
    "        for world in ['w_all', 'w_all', 'w_some']:\n",
    "            utility.append(m(i, world, n, message_c) * P(i, world, n))\n",
    "        res.append(scipy.stats.beta(a, b).pdf(i)*sum(utility))\n",
    "    return(sum(res))"
   ]
  },
  {
   "cell_type": "code",
   "execution_count": 18,
   "metadata": {},
   "outputs": [],
   "source": [
    "X = np.arange(0.01, 3, 0.2)\n",
    "Y = np.arange(0.01, 3, 0.2)\n",
    "X, Y = np.meshgrid(X, Y)"
   ]
  },
  {
   "cell_type": "markdown",
   "metadata": {},
   "source": [
    "Let's fix the number of elements at 10, 50 and 100:"
   ]
  },
  {
   "cell_type": "code",
   "execution_count": null,
   "metadata": {},
   "outputs": [
    {
     "name": "stderr",
     "output_type": "stream",
     "text": [
      "<ipython-input-7-b267681f483b>:2: RuntimeWarning: divide by zero encountered in log\n",
      "  return np.log(P_0(p_0, world, message, n)) - message_c.get(message)\n"
     ]
    }
   ],
   "source": [
    "Z_10 = expected_U(X, Y, message_c={'all': 0, 'some': 0, 'no':0, 'notall': 1}, n=10)\n",
    "Z_50 = expected_U(X, Y, message_c={'all': 0, 'some': 0, 'no':0, 'notall': 1}, n=50)\n",
    "Z_100 = expected_U(X, Y, message_c={'all': 0, 'some': 0, 'no':0, 'notall': 1}, n=100)"
   ]
  },
  {
   "cell_type": "code",
   "execution_count": null,
   "metadata": {},
   "outputs": [],
   "source": [
    "def plot_U(X, Y, Z):\n",
    "    fig = plt.figure(figsize=(10, 10))\n",
    "    ax = plt.axes(projection='3d')\n",
    "    ax.plot_surface(X, Y, Z, rstride=1, cstride=1,\n",
    "                    cmap='binary', edgecolor='none', alpha=0.5)\n",
    "    ax.grid(False)\n",
    "    ax.set_xlabel('Alpha')\n",
    "    ax.set_ylabel('Beta')\n",
    "    ax.set_zlabel('Expected utility')"
   ]
  },
  {
   "cell_type": "markdown",
   "metadata": {},
   "source": [
    "### 2. Experiments:\n",
    "\n",
    "#### 2.1. Expected uitility in relation to the number of items:"
   ]
  },
  {
   "cell_type": "markdown",
   "metadata": {},
   "source": [
    "Expected utility plots for the 10, 50 and 100 number of items, respectively:"
   ]
  },
  {
   "cell_type": "code",
   "execution_count": null,
   "metadata": {},
   "outputs": [],
   "source": [
    "plot_U(X, Y, Z_10)"
   ]
  },
  {
   "cell_type": "code",
   "execution_count": null,
   "metadata": {},
   "outputs": [],
   "source": [
    "plot_U(X, Y, Z_50)"
   ]
  },
  {
   "cell_type": "code",
   "execution_count": null,
   "metadata": {},
   "outputs": [],
   "source": [
    "plot_U(X, Y, Z_100)"
   ]
  },
  {
   "cell_type": "markdown",
   "metadata": {},
   "source": [
    "Absolute difference in-between 100 and 10 items model:"
   ]
  },
  {
   "cell_type": "code",
   "execution_count": null,
   "metadata": {},
   "outputs": [],
   "source": [
    "plot_U(X, Y, abs(Z_100-Z_10))"
   ]
  },
  {
   "cell_type": "markdown",
   "metadata": {},
   "source": [
    "#### 2.2. Expected uitility in relation to different languages:"
   ]
  },
  {
   "cell_type": "code",
   "execution_count": null,
   "metadata": {},
   "outputs": [],
   "source": [
    "Z_notall = expected_U(X, Y, message_c={'all': 0, 'some': 0, 'no':0, 'notall': 1}, n=5)\n",
    "Z_no = expected_U(X, Y, message_c={'all': 0, 'some': 0, 'no':1, 'notall': 0}, n=5)"
   ]
  },
  {
   "cell_type": "markdown",
   "metadata": {},
   "source": [
    "What is the difference between the language that does not lexicalize notall vs. the language that does not lexicalize no?"
   ]
  },
  {
   "cell_type": "code",
   "execution_count": null,
   "metadata": {},
   "outputs": [],
   "source": [
    "plot_U(X, Y, abs(Z_no-Z_notall))"
   ]
  }
 ],
 "metadata": {
  "kernelspec": {
   "display_name": "Python 3",
   "language": "python",
   "name": "python3"
  },
  "language_info": {
   "codemirror_mode": {
    "name": "ipython",
    "version": 3
   },
   "file_extension": ".py",
   "mimetype": "text/x-python",
   "name": "python",
   "nbconvert_exporter": "python",
   "pygments_lexer": "ipython3",
   "version": "3.8.1"
  }
 },
 "nbformat": 4,
 "nbformat_minor": 4
}
